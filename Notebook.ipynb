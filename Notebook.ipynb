{
 "cells": [
  {
   "cell_type": "code",
   "execution_count": 1,
   "outputs": [],
   "source": [
    "import drawing_plots\n",
    "from drawing_plots import *"
   ],
   "metadata": {
    "collapsed": false
   }
  },
  {
   "cell_type": "code",
   "execution_count": 2,
   "outputs": [
    {
     "name": "stdout",
     "output_type": "stream",
     "text": [
      "\n",
      "Сохраняем датафрейм original_df в csv\n",
      "---------------------------------------------------------------------\n",
      "original_df сохранен в intermediate data/tmp/drawing_plots.py_original_df.csv\n",
      "Empty DataFrame\n",
      "Columns: [name, gt_corners, rb_corners, mean, max, min, floor_mean, floor_max, floor_min, ceiling_mean, ceiling_max, ceiling_min]\n",
      "Index: []\n",
      "\n",
      "Информация по original_df\n",
      "---------------------------------------------------------------------\n",
      "<class 'pandas.core.frame.DataFrame'>\n",
      "Index: 1347 entries, 0 to 1346\n",
      "Data columns (total 12 columns):\n",
      " #   Column        Non-Null Count  Dtype  \n",
      "---  ------        --------------  -----  \n",
      " 0   name          1347 non-null   object \n",
      " 1   gt_corners    1347 non-null   float64\n",
      " 2   rb_corners    1347 non-null   float64\n",
      " 3   mean          1347 non-null   float64\n",
      " 4   max           1347 non-null   float64\n",
      " 5   min           1347 non-null   float64\n",
      " 6   floor_mean    1347 non-null   float64\n",
      " 7   floor_max     1347 non-null   float64\n",
      " 8   floor_min     1347 non-null   float64\n",
      " 9   ceiling_mean  1347 non-null   float64\n",
      " 10  ceiling_max   1347 non-null   float64\n",
      " 11  ceiling_min   1347 non-null   float64\n",
      "dtypes: float64(11), object(1)\n",
      "memory usage: 136.8+ KB\n",
      "\n",
      "Уникальные значения в столбцах в original_df\n",
      "---------------------------------------------------------------------\n",
      "Unique in name: 588\n",
      "Unique in gt_corners: 4\n",
      "Unique in rb_corners: 4\n",
      "Unique in mean: 1347\n",
      "Unique in max: 1347\n",
      "Unique in min: 1347\n",
      "Unique in floor_mean: 1347\n",
      "Unique in floor_max: 1347\n",
      "Unique in floor_min: 1347\n",
      "Unique in ceiling_mean: 1347\n",
      "Unique in ceiling_max: 1347\n",
      "Unique in ceiling_min: 1347\n"
     ]
    }
   ],
   "source": [
    "json_url = \"https://ai-process-sandy.s3.eu-west-1.amazonaws.com/purge/deviation.json\"\n",
    "\n",
    "dp: DrawingPlots = drawing_plots.DrawingPlots\n",
    "dp.draw_plots(dp, json_url)"
   ],
   "metadata": {
    "collapsed": false
   }
  }
 ],
 "metadata": {
  "kernelspec": {
   "display_name": "Python 3",
   "language": "python",
   "name": "python3"
  },
  "language_info": {
   "codemirror_mode": {
    "name": "ipython",
    "version": 2
   },
   "file_extension": ".py",
   "mimetype": "text/x-python",
   "name": "python",
   "nbconvert_exporter": "python",
   "pygments_lexer": "ipython2",
   "version": "2.7.6"
  }
 },
 "nbformat": 4,
 "nbformat_minor": 0
}
